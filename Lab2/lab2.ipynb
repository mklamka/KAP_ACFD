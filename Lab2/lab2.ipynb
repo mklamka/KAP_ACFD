{
  "cells": [
    {
      "cell_type": "markdown",
      "id": "3aae3441",
      "metadata": {
        "id": "3aae3441"
      },
      "source": [
        "# 1 Dimentional Unsteady Diffusion Equation\n",
        "The famous diffusion equation, also known as the heat equation, reads\n",
        "\n",
        "$\\frac{\\partial u}{\\partial t} = \\alpha \\cdot \\frac{\\partial^2 u}{\\partial x^2} $,\n",
        "\n",
        "where $u(x,t)$ is the unknown function to be solved for, $x$ is a coordinate in space, and $t$ is time. The coefficient $\\alpha$ is the diffusion coefficient and determines how fast $u$ changes in time. A quick short form for the diffusion equation is $u_t=α\\cdot u_{xx}$.\n",
        "\n",
        "Compared to the wave equation, $u_{tt}=2 c\\cdot  u_{xx}$, which looks very similar, but the diffusion equation features solutions that are very different from those of the wave equation. Also, the diffusion equation makes quite different demands to the numerical methods.\n",
        "\n",
        "Typical diffusion problems may experience rapid change in the very beginning, but then the evolution of u becomes slower and slower. The solution is usually very smooth, and after some time, one cannot recognize the initial shape of u. This is in sharp contrast to solutions of the wave equation where the initial shape is preserved - the solution is basically a moving initial condition. The standard wave equation utt=c2uxx has solutions that propagates with speed c forever, without changing shape, while the diffusion equation converges to a stationary solution $u(x)$ as $t→∞$. In this limit, ut=0, and u¯ is governed by u¯′′(x)=0. This stationary limit of the diffusion equation is called the Laplace equation and arises in a very wide range of applications throughout the sciences.\n",
        "\n",
        "It is possible to solve for u(x,t) using a explicit scheme. And of more importance, since the solution u of the diffusion equation is very smooth and changes slowly, small time steps are not convenient and not required by accuracy as the diffusion process converges to a stationary state."
      ]
    },
    {
      "cell_type": "code",
      "execution_count": null,
      "id": "d738b0bd",
      "metadata": {
        "id": "d738b0bd"
      },
      "outputs": [],
      "source": [
        "import matplotlib.pyplot as plt\n",
        "import numpy as np\n",
        "\n",
        "from matplotlib import rc\n",
        "rc('font', family='serif')\n",
        "rc('lines', linewidth=1.5)\n",
        "rc('font', size=16)\n",
        "plt.rc('legend',**{'fontsize':14})\n",
        "\n",
        "#===============================================================\n",
        "# Define parameters\n",
        "#===============================================================\n",
        "\n",
        "alpha = 0.01                      # Diffusivity\n",
        "sigma = 0.4                       # Stability condition\n",
        "Nx = 101;                         # Number of grid points\n",
        "xmax = 2.;                        # Domain limit to the right\n",
        "xmin = -2.;                       # Domain limit to the left\n",
        "dx = (xmax-xmin)/(Nx-1)           # Mesh size\n",
        "x = np.linspace(xmin,xmax,Nx)     # Discretized mesh\n",
        "dt = sigma*dx**2/alpha            # Time step\n",
        "t_end = 5.                        # Final time\n",
        "Nt = int(t_end/dt)                # Number of iterations\n",
        "t = np.linspace(0.,t_end,Nt+1)    # Time vector\n",
        "U = np.zeros((Nt+1,Nx))           # u^n_i\n",
        "U[0,:] = np.exp(-0.5*(x/0.4)**2)  # Initial solution\n",
        "\n",
        "\n",
        "#===============================================================\n",
        "# Temporal loop\n",
        "#===============================================================\n",
        "\n",
        "Frequency = 10; # HOW OFTEN you want to SHOW plots On screen, More often means more run time. \n",
        "for n in range (0,Nt):\n",
        "  \n",
        "  sigma = alpha*dt/(dx*dx)\n",
        "  \n",
        "  for i in range (1,Nx-1):\n",
        "      U[n+1,i] = U[n,i] + sigma*(U[n,i+1]-2*U[n,i]+U[n,i-1]); # Interior points\n",
        "  U[n+1,0] = 0;                                               # BC left\n",
        "  U[n+1,-1] = 0;                                              # BC right\n",
        "\n",
        "  \n",
        "for n in range (0,Nt, Frequency ):  \n",
        "  # Plot solution\n",
        "  if (n==0): fig, ax = plt.subplots(figsize=(5.5,4))\n",
        "  plt.clf()\n",
        "  plt.plot(x,U[n+1,:])\n",
        "  plt.scatter(x,U[0,:], marker='o', facecolors='white', color='k')\n",
        "  plt.gca().legend(('Numerical result ($\\sigma$='+str(sigma)+')','Initial condition'))\n",
        "  plt.axis([xmin, xmax, 0, 1.4])\n",
        "  plt.title('t='+str(round(dt*(n+1),3)),fontsize=16)\n",
        "  plt.xlabel('x',fontsize=18)\n",
        "  plt.ylabel('u',fontsize=18)\n",
        "  plt.subplots_adjust(left=0.2)\n",
        "  plt.subplots_adjust(bottom=0.18)\n",
        "  plt.draw()\n",
        "  plt.pause(0.001)\n",
        "\n",
        "plt.show()\n",
        "fig.savefig(\"Advection-figure.pdf\", dpi=300)\n"
      ]
    },
    {
      "cell_type": "markdown",
      "id": "febfea3e",
      "metadata": {
        "id": "febfea3e"
      },
      "source": [
        "# 1 Dimentional Unsteady Diffusion Equation\n",
        "The advection-diffusion equation describes physical phenomena where particles, energy, or other physical quantities are transferred inside a physical system due to two processes: diffusion and advection. Advection is a transport mechanism of a substance or conserved property by a fluid due to the fluid’s bulk motion. Diffusion is the net movement of molecules or atoms from a region of high concentration to a region of low concentration. The advection-diffusion equation is a relatively simple equation describing flows, or alternatively, describing a stochastically-changing system\n",
        "\n",
        "The general form of advection diffusion equation is given as follows:\n",
        "\n",
        "$\\frac{\\partial u}{\\partial t} = \\alpha \\frac{\\partial^2 u}{\\partial x^2} + c \\cdot \\frac{\\partial u}{\\partial x} + f $\n",
        "\n",
        "where $\\alpha$ is diffusion coeffceint \n",
        "$C$ is advection speed\n",
        "f is source of generation and dissipation.\n"
      ]
    },
    {
      "cell_type": "code",
      "execution_count": null,
      "id": "e3dad9aa",
      "metadata": {
        "id": "e3dad9aa"
      },
      "outputs": [],
      "source": [
        "import matplotlib.pyplot as plt\n",
        "import numpy as np\n",
        "\n",
        "from matplotlib import rc\n",
        "rc('font', family='serif')\n",
        "rc('lines', linewidth=1.5)\n",
        "rc('font', size=16)\n",
        "plt.rc('legend',**{'fontsize':14})\n",
        "\n",
        "#===============================================================\n",
        "# Define parameters\n",
        "#===============================================================\n",
        "\n",
        "alpha = 0.01                      # Diffusivity\n",
        "sigma = 0.4                       # Stability condition\n",
        "Nx = 101;                         # Number of grid points\n",
        "xmax = 2.;                        # Domain limit to the right\n",
        "xmin = -2.;                       # Domain limit to the left\n",
        "dx = (xmax-xmin)/(Nx-1)           # Mesh size\n",
        "x = np.linspace(xmin,xmax,Nx)     # Discretized mesh\n",
        "dt = sigma*dx**2/alpha            # Time step\n",
        "t_end = 5.                        # Final time\n",
        "Nt = int(t_end/dt)                # Number of iterations\n",
        "t = np.linspace(0.,t_end,Nt+1)    # Time vector\n",
        "U = np.zeros((Nt+1,Nx))           # u^n_i\n",
        "U[0,:] = np.exp(-0.5*(x/0.4)**2)  # Initial solution\n",
        "C = 0.1;\n",
        "CFL =  C*dt/dx                     \n",
        "#===============================================================\n",
        "# Temporal loop\n",
        "#===============================================================\n",
        "\n",
        "Frequency = 10; # HOW OFTEN you want to SHOW plots On screen, More often means more run time.\n",
        "for n in range (0,Nt):\n",
        "  \n",
        "    sigma = alpha*dt/(dx*dx)\n",
        "\n",
        "    for i in range (-2,Nx-1):\n",
        "      U[n+1,i] = U[n,i] + sigma*(U[n,i+1]-2*U[n,i]+U[n,i-1])  - 0.5*CFL*(U[n,i+1]-U[n, i-1]); # Interior points\n",
        "    #U[n+1, 0] = U[n+1, -1];\n",
        "\n",
        "for n in range (0,Nt, Frequency):\n",
        "    # Plot solution\n",
        "    if (n==0): fig, ax = plt.subplots(figsize=(5.5,4))\n",
        "    plt.clf()\n",
        "    plt.plot(x,U[n+1,:])\n",
        "    plt.scatter(x,U[0,:], marker='o', facecolors='white', color='k')\n",
        "    plt.gca().legend(('Numerical result ($\\sigma$='+str(sigma)+')','Initial condition'))\n",
        "    plt.axis([xmin, xmax, 0, 1.4])\n",
        "    plt.title('t='+str(round(dt*(n+1),3)),fontsize=16)\n",
        "    plt.xlabel('x',fontsize=18)\n",
        "    plt.ylabel('u',fontsize=18)\n",
        "    plt.subplots_adjust(left=0.2)\n",
        "    plt.subplots_adjust(bottom=0.18)\n",
        "    plt.draw()\n",
        "    plt.pause(0.001)\n",
        "\n",
        "plt.show()\n",
        "fig.savefig(\"Adve-diffu-figure.pdf\", dpi=300)\n"
      ]
    },
    {
      "cell_type": "markdown",
      "id": "70f7f50b",
      "metadata": {
        "id": "70f7f50b"
      },
      "source": [
        "# Tasks\n",
        "1. Run the 1D diffusion solver for a range of diffusion coeffient and explain the effects of diffusion coeffcient on results.\n",
        "2. Run the 1D advection diffusion for a range of advection speed and explain the CFL condition nessary for stable solution.\n",
        "3. Run the 1D advection diffusion for a range of diffusion coeffient and explain the effects of diffusion coeffcient on the results.\n",
        "4. For an extreme value of t_end calculate the integral value of the final distribution and compare with the integral of the initial distribution. "
      ]
    },
    {
      "cell_type": "code",
      "execution_count": null,
      "id": "0c59021d",
      "metadata": {
        "id": "0c59021d"
      },
      "outputs": [],
      "source": [
        "import "
      ]
    }
  ],
  "metadata": {
    "kernelspec": {
      "display_name": "Python 3",
      "language": "python",
      "name": "python3"
    },
    "language_info": {
      "codemirror_mode": {
        "name": "ipython",
        "version": 3
      },
      "file_extension": ".py",
      "mimetype": "text/x-python",
      "name": "python",
      "nbconvert_exporter": "python",
      "pygments_lexer": "ipython3",
      "version": "3.8.8"
    },
    "colab": {
      "provenance": []
    }
  },
  "nbformat": 4,
  "nbformat_minor": 5
}
